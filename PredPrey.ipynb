{
 "cells": [
  {
   "cell_type": "markdown",
   "metadata": {},
   "source": [
    "# Predator Prey Simulation (Wolves and Rabbits)\n",
    "\n"
   ]
  },
  {
   "cell_type": "code",
   "execution_count": 1,
   "metadata": {},
   "outputs": [],
   "source": [
    "%matplotlib inline  \n",
    "\n",
    "import matplotlib.pyplot as plt\n",
    "import numpy as np\n",
    "import matplotlib.animation as animation\n",
    "import math as math"
   ]
  },
  {
   "cell_type": "markdown",
   "metadata": {},
   "source": [
    "What follows is a predator prey model, in which wolves hunt rabbits on a grid.\n",
    "\n",
    "\n",
    "The first function returns true if there is a rabbit at that point in space and time, and false otherwise. This will be used to let predators detect the rabbits."
   ]
  },
  {
   "cell_type": "code",
   "execution_count": 2,
   "metadata": {},
   "outputs": [],
   "source": [
    "def Rabbit(x,y,t,rabbit):\n",
    "    out = 0\n",
    "    if (x,y,t) in rabbit:\n",
    "           out = True\n",
    "    else:\n",
    "           out = False\n",
    "    return out"
   ]
  },
  {
   "cell_type": "markdown",
   "metadata": {},
   "source": [
    "The next codes will generate the wolf function in a similar fashion. Each wolf will have a string s, defined later, it is effectively a string of \"genes\" for each wolf. It will be unique and can thus serve as an identifier for each wolf."
   ]
  },
  {
   "cell_type": "code",
   "execution_count": 3,
   "metadata": {},
   "outputs": [],
   "source": [
    "def Wolf(x,y,t,wolf):\n",
    "    out = 0\n",
    "    if (x,y,t) in wolf:\n",
    "           out = True\n",
    "    else:\n",
    "           out = False\n",
    "    return out"
   ]
  },
  {
   "cell_type": "markdown",
   "metadata": {},
   "source": [
    "The following cell will define the wolves' vision. The wolf can see in a circle 10 units around itself, outputting lists of nearby wolves and rabbits. Note the wolf does not \"see\" itself."
   ]
  },
  {
   "cell_type": "code",
   "execution_count": 4,
   "metadata": {},
   "outputs": [],
   "source": [
    "def wolf_see(x,y,wolf,rabbit):\n",
    "    near_rab =[]\n",
    "    near_wolf =[]\n",
    "    for r in rabbit:\n",
    "        norm = (x-r[0])**2 + (x-r[1])**2\n",
    "        if norm <= 100:\n",
    "            near_rab.append(r)\n",
    "    for w in wolf:\n",
    "        norm = (x-w[0])**2 + (x-w[1])**2\n",
    "        if 1 < norm <= 100:\n",
    "            near_wolf.append(w)\n",
    "    return near_rab,near_wolf\n",
    "    "
   ]
  },
  {
   "cell_type": "markdown",
   "metadata": {},
   "source": [
    "Note that this function actually applies on any point in space, you don't need a wolf in a point (x,y) to call it. It will have as inputs the position of a known wolf though.\n",
    "\n",
    "As of yet, there is no motion in the world. \n",
    "\n",
    "Next, we will add functions that move the wolves around. \n",
    "\n",
    "To do this, new position lists will be created using a time of t+1 i.e. increment the time-step and move the wolves. This movement will be based on a potential function. Esentially, wolves will repel eachother at close ranges, and attract at long ranges (in the wolf's vision). The same applies for rabbits. The string s of each wolf will be used to determine the coefficients of the potential function. The potential used will be similar to a Leonard-Jones potential."
   ]
  },
  {
   "cell_type": "code",
   "execution_count": 5,
   "metadata": {},
   "outputs": [
    {
     "data": {
      "text/plain": [
       "[<matplotlib.lines.Line2D at 0x29f9160be48>]"
      ]
     },
     "execution_count": 5,
     "metadata": {},
     "output_type": "execute_result"
    },
    {
     "data": {
      "image/png": "[encoded data removed]",
      "text/plain": [
       "<matplotlib.figure.Figure at 0x29f8f5b4940>"
      ]
     },
     "metadata": {
      "needs_background": "light"
     },
     "output_type": "display_data"
    }
   ],
   "source": [
    "def w_potential(a,b,c,x):\n",
    "    y = a +b*x+c*(x**2)\n",
    "    return y\n",
    "\n",
    "x_lis=[i for i in range(1,11)]\n",
    "y_lis =[w_potential(4,-2,0.25,x) for x in x_lis]\n",
    "\n",
    "\n",
    "plt.plot(x_lis,y_lis)\n"
   ]
  },
  {
   "cell_type": "code",
   "execution_count": 6,
   "metadata": {},
   "outputs": [
    {
     "data": {
      "text/plain": [
       "[<matplotlib.lines.Line2D at 0x29f916a2b00>]"
      ]
     },
     "execution_count": 6,
     "metadata": {},
     "output_type": "execute_result"
    },
    {
     "data": {
      "image/png": "[encoded data removed]",
      "text/plain": [
       "<matplotlib.figure.Figure at 0x29f8f5d5780>"
      ]
     },
     "metadata": {
      "needs_background": "light"
     },
     "output_type": "display_data"
    }
   ],
   "source": [
    "def r_potential(d,e,x):\n",
    "    y = e*(x**2)+d\n",
    "    return y\n",
    "\n",
    "x_lis=[i for i in range(1,11)]\n",
    "y_lis =[r_potential(0,0.1,x) for x in x_lis]\n",
    "\n",
    "\n",
    "plt.plot(x_lis,y_lis)"
   ]
  },
  {
   "cell_type": "markdown",
   "metadata": {},
   "source": [
    "Remembering that the gene string s uniquely identifies each wolf, we will add some parameters for each wolf associated with this string. The string will be of the form \"aXXXXbXXXXcXXXXdXXXXeXXXXnXX\",where a,b,c,d,e are parameters in the potentials and n can be used to distinguish wolves. The X values indicate either integers,signs, or a decimal point. \n",
    "\n",
    "The function w_move generates a movement vector for the wolf. The gene string generates the potential function, and the potential function is multiplied by the vector pointing to the object of the potential (i.e wolf or rabbit). The potentials are then summed, resulting in a vector pointing to the wolf's next location. The vector is normed to a unit of two (the arguments will then be converted to int in the next function, which adds a time step). The function reaches a very high value for positions greater than 100 or less than 0, to confine the wolves."
   ]
  },
  {
   "cell_type": "code",
   "execution_count": 7,
   "metadata": {},
   "outputs": [
    {
     "data": {
      "text/plain": [
       "(9, 11)"
      ]
     },
     "execution_count": 7,
     "metadata": {},
     "output_type": "execute_result"
    }
   ],
   "source": [
    "def w_move(w,wolf,rabbit):\n",
    "    sm = wolf[w]\n",
    "    a = float(sm[1:5])\n",
    "    b = float(sm[6:10])\n",
    "    c = float(sm[11:15])\n",
    "    d = float(sm[16:20])\n",
    "    e =float(sm[21:25])\n",
    "    rab,wuf = wolf_see(w[0],w[1],wolf,rabbit)\n",
    "    u_current = 0\n",
    "    for wi in wolf:\n",
    "        norm = np.sqrt(float((w[0]-wi[0])**2 + (w[1]-wi[1])**2))\n",
    "        mult = w_potential(a,b,c,norm)\n",
    "        u_current += mult\n",
    "    for r in rabbit:\n",
    "        norm = np.sqrt(float((w[0]-r[0])**2 + (w[1]-r[1])**2))\n",
    "        mult = r_potential(d,e,norm)\n",
    "        u_current += mult\n",
    "    choices = [-1,0,1]\n",
    "    next_w = {}\n",
    "    next_w[(w[0],w[1])] = u_current\n",
    "    for i in choices:\n",
    "        for j in choices:\n",
    "            u_next =0\n",
    "            w_i = w[0]+i\n",
    "            w_j = w[1] +j\n",
    "            if (w_i < 0 or w_j <0 or w_i >100 or w_j >100):\n",
    "                u_next = 999999\n",
    "            else:\n",
    "                v_nex = (w_i,w_j)\n",
    "                for wi in wolf:\n",
    "                    norm = np.sqrt(float((w_i-wi[0])**2 + (w_j-wi[1])**2))\n",
    "                    mult = w_potential(a,b,c,norm)\n",
    "                    u_next+= mult\n",
    "                for r in rabbit:\n",
    "                    norm = np.sqrt(float((w_i-r[0])**2 + (w_i-r[1])**2))\n",
    "                    mult = r_potential(d,e,norm)\n",
    "                    u_next += mult\n",
    "            if u_next <= u_current:\n",
    "                next_w[v_nex] = u_next\n",
    "    out = min(next_w, key=next_w.get)\n",
    "    return out\n",
    "    \n",
    "        \n",
    "wolf = {(10,10,0):\"a2.00b-0.5c0.05d-15.e0.15nXX\",(15,15,0):\"a2.00b-0.05c0.05dXXXXeXXXXnX1\"}\n",
    "rabbit ={(5,5,0):\"1\"}\n",
    "e_list = {}\n",
    "\n",
    "w_move((10,10,0),wolf,rabbit)"
   ]
  },
  {
   "cell_type": "markdown",
   "metadata": {},
   "source": [
    "One additional parameter will be energy. It will be found in a dictionary that associates a gene string with an energy value and pregnancy value (used later for generating more wolves). When their postions are equal, the rabbit will be deleted and the wolf's energy increased. That is, the wolf ate the rabbit. Moving will reduce the wolf's energy by the number of tiles moved (max 2). Rabbit motion will be added later. \n",
    "\n",
    "The next function will be the (first) time step function. It increments time by a step, generating new dictionaries from the previous ones(rabbit,wolf,e_list). e_list is the list of energies for each wolf. When e hits 0, the wolf is deleted.\n"
   ]
  },
  {
   "cell_type": "code",
   "execution_count": 8,
   "metadata": {},
   "outputs": [],
   "source": [
    "def time_step_0(wolf,rabbit,e_list):\n",
    "    new_wolf ={}\n",
    "    new_rab = {}\n",
    "    new_e ={}\n",
    "    for w in wolf:\n",
    "        s = wolf[w]\n",
    "        t = w[2]\n",
    "        e = e_list[s]\n",
    "        step = w_move(w,wolf,rabbit)\n",
    "        x = step[0]\n",
    "        y = step[1]\n",
    "        t +=  1\n",
    "        w1 = (x,y,t)\n",
    "        if w1 in new_wolf:\n",
    "            e -= 1\n",
    "            w1 = w\n",
    "        e -= 1+abs(w[0]-step[0]) + abs(w[1]-step[1])\n",
    "        if e <= 0:\n",
    "            print(\"Wolf died\") \n",
    "        else:\n",
    "            new_e[s] = e\n",
    "            new_wolf[w1] = s\n",
    "    for r in rabbit:\n",
    "        s = rabbit[r]\n",
    "        x = r[0]\n",
    "        y = r[1]\n",
    "        t = r[2]\n",
    "        t += 1\n",
    "        r1 = (x,y,t)\n",
    "        if r1 in new_wolf:\n",
    "            sw = new_wolf[r1]\n",
    "            new_e[sw] = 500\n",
    "            print(\"Wolf ate rabbit\")\n",
    "        else:\n",
    "            new_rab[r1] = s\n",
    "    \n",
    "    return new_wolf,new_rab,new_e\n",
    "            \n",
    "        "
   ]
  },
  {
   "cell_type": "markdown",
   "metadata": {},
   "source": [
    "Now to test the code."
   ]
  },
  {
   "cell_type": "code",
   "execution_count": 9,
   "metadata": {},
   "outputs": [
    {
     "name": "stdout",
     "output_type": "stream",
     "text": [
      "Wolf ate rabbit\n",
      "Wolf ate rabbit\n"
     ]
    },
    {
     "data": {
      "image/png": "[encoded data removed]",
      "text/plain": [
       "<matplotlib.figure.Figure at 0x29f916e0c88>"
      ]
     },
     "metadata": {
      "needs_background": "light"
     },
     "output_type": "display_data"
    }
   ],
   "source": [
    "wolf_init  = {(10,10,0):\"a4.00b-4.0c0.25d-15.e0.17n01\",(20,20,0):\"a4.00b-4.0c0.25d-15.e0.17n02\"}\n",
    "\n",
    "t = list(wolf_init.keys())[0][2]\n",
    "\n",
    "rab_init ={(12,12,0):\"1\",(13,13,0):\"2\",(18,18,0):\"3\",(15,15,0):\"4\",(5,5,0):\"5\", (7,7,0):\"6\", (25,20,0):\"7\"}\n",
    "e_init = {\"a4.00b-4.0c0.25d-15.e0.17n01\":500,\"a4.00b-4.0c0.25d-15.e0.17n02\":500}\n",
    "\n",
    "for t in range(0,20):\n",
    "    for w in wolf_init:\n",
    "        plt.scatter(w[0],w[1], c= 'r')\n",
    "    for r in rab_init:\n",
    "        plt.scatter(r[0],r[1], c= 'b')\n",
    "    wolf_init,rab_init,e_init = time_step_0(wolf_init,rab_init,e_init)\n",
    "    t = list(wolf_init.keys())[0][2]\n"
   ]
  },
  {
   "cell_type": "markdown",
   "metadata": {},
   "source": [
    "While it is somewhat hard to tell from the above plot, the lower wolf got trapped in a minimum of potential energy. There are a few ways to remedy this. One would be to add a jitter, that can push the wolf out of the minima; for example, by deleting a single parameter from the \"wolf_see\" list to change the local potential.\n",
    "\n",
    "Another way, which will also progress the simulation, is to make the rabbit's positions adapt to the wolf's prescense. Then the minima will be broken in the next time step. The next function will be the sight function for the rabbit, its potential and its step function. It has worse vision, but will be able to move faster."
   ]
  },
  {
   "cell_type": "code",
   "execution_count": 10,
   "metadata": {},
   "outputs": [],
   "source": [
    "def r_see(x,y,wolf):\n",
    "    near_wolf =[]\n",
    "    for w in wolf:\n",
    "        norm = (x-w[0])**2 + (x-w[1])**2\n",
    "        if 1 < norm <= 25:\n",
    "            near_wolf.append(w)\n",
    "    return near_wolf"
   ]
  },
  {
   "cell_type": "markdown",
   "metadata": {},
   "source": [
    "Next the potential:"
   ]
  },
  {
   "cell_type": "code",
   "execution_count": 11,
   "metadata": {},
   "outputs": [
    {
     "data": {
      "text/plain": [
       "[<matplotlib.lines.Line2D at 0x29f918c8470>]"
      ]
     },
     "execution_count": 11,
     "metadata": {},
     "output_type": "execute_result"
    },
    {
     "data": {
      "image/png": "[encoded data removed]",
      "text/plain": [
       "<matplotlib.figure.Figure at 0x29f91887160>"
      ]
     },
     "metadata": {
      "needs_background": "light"
     },
     "output_type": "display_data"
    }
   ],
   "source": [
    "def rab_potential(x):\n",
    "    y = 100 -(x**2)\n",
    "    return y\n",
    "\n",
    "x_lis=[i for i in range(1,11)]\n",
    "y_lis =[rab_potential(x) for x in x_lis]\n",
    "\n",
    "\n",
    "plt.plot(x_lis,y_lis)"
   ]
  },
  {
   "cell_type": "markdown",
   "metadata": {},
   "source": [
    "The rabbit will run almost constantly when a wolf is in sight. Next, the movement function for rabbits:"
   ]
  },
  {
   "cell_type": "code",
   "execution_count": 12,
   "metadata": {},
   "outputs": [],
   "source": [
    "def r_move(r,wolf):\n",
    "    wuf= r_see(w[0],w[1],wolf)\n",
    "    u_current = 0\n",
    "    for wi in wuf:\n",
    "        norm = np.sqrt(float((r[0]-wi[0])**2 + (r[1]-wi[1])**2))\n",
    "        mult = rab_potential(norm)\n",
    "        u_current += mult\n",
    "    choices = [-1,0,1]\n",
    "    next_r = {}\n",
    "    next_r[(r[0],r[1])] = u_current\n",
    "    for i in choices:\n",
    "        for j in choices:\n",
    "            u_next =0\n",
    "            r_i = r[0]+i\n",
    "            r_j = r[1] +j\n",
    "            if (r_i < 0 or r_j <0 or r_i >100 or r_j >100):\n",
    "                u_next = 999999\n",
    "            else:\n",
    "                v_nex = (r_i,r_j)\n",
    "                for wi in wolf:\n",
    "                    norm = np.sqrt(float((r_i-wi[0])**2 + (r_j-wi[1])**2))\n",
    "                    mult = rab_potential(norm)\n",
    "                    u_next+= mult\n",
    "            if u_next <= u_current:\n",
    "                next_r[v_nex] = u_next\n",
    "    out = min(next_r, key=next_r.get)\n",
    "    return out\n",
    "    "
   ]
  },
  {
   "cell_type": "markdown",
   "metadata": {},
   "source": [
    "Lastly, the rabbits time step movement function. It is a modifcation of the previous function, adding rabbit movement. Wolves move before rabbits. It will handle the self-avoidance between rabbits, preventing them from overlapping with eachother. Since they can graze, they don't lose energy. The new function will also fix a small bug with timesteps."
   ]
  },
  {
   "cell_type": "code",
   "execution_count": 13,
   "metadata": {},
   "outputs": [],
   "source": [
    "def time_step_1(wolf,rabbit,e_list):\n",
    "    new_wolf ={}\n",
    "    new_rab = {}\n",
    "    new_e ={}\n",
    "    for w in wolf:\n",
    "        s = wolf[w]\n",
    "        t = w[2]\n",
    "        e = e_list[s]\n",
    "        step = w_move(w,wolf,rabbit)\n",
    "        x = step[0]\n",
    "        y = step[1]\n",
    "        t +=  1\n",
    "        w1 = (x,y,t)\n",
    "        w2 = (w[0],w[1],t)\n",
    "        if w1 in new_wolf:\n",
    "            e -= 1\n",
    "            w1 = w2\n",
    "        e -= 1+abs(w[0]-step[0]) + abs(w[1]-step[1])\n",
    "        if e <= 0:\n",
    "            print(\"Wolf died\") \n",
    "        else:\n",
    "            new_e[s] = e\n",
    "            new_wolf[w1] = s\n",
    "    for r in rabbit:\n",
    "        s = rabbit[r]\n",
    "        t = r[2]\n",
    "        step = r_move(r,rabbit)\n",
    "        x = step[0]\n",
    "        y = step[1]\n",
    "        t +=  1\n",
    "        r1 = (x,y,t)\n",
    "        r2 = (r[0],r[1],t)\n",
    "        if r1 in new_rab:\n",
    "            r1 = r2\n",
    "        if r1 in new_wolf:\n",
    "            sw = new_wolf[r1]\n",
    "            new_e[sw] += 50\n",
    "            print(\"Wolf ate rabbit\")\n",
    "        else:\n",
    "            new_rab[r1] = s\n",
    "    \n",
    "    return new_wolf,new_rab,new_e\n",
    "            \n",
    "        "
   ]
  },
  {
   "cell_type": "markdown",
   "metadata": {},
   "source": [
    "Now, to test the new code:"
   ]
  },
  {
   "cell_type": "code",
   "execution_count": 14,
   "metadata": {},
   "outputs": [
    {
     "name": "stdout",
     "output_type": "stream",
     "text": [
      "Wolf ate rabbit\n",
      "Wolf ate rabbit\n"
     ]
    },
    {
     "data": {
      "image/png": "[encoded data removed]",
      "text/plain": [
       "<matplotlib.figure.Figure at 0x29f91900160>"
      ]
     },
     "metadata": {
      "needs_background": "light"
     },
     "output_type": "display_data"
    }
   ],
   "source": [
    "wolf_init  = {(10,10,0):\"a4.00b-4.0c0.25d-15.e0.17n01\",(20,20,0):\"a4.00b-4.0c0.25d-15.e0.17n02\"}\n",
    "\n",
    "t = list(wolf_init.keys())[0][2]\n",
    "\n",
    "rab_init ={(12,12,0):\"1\",(13,13,0):\"2\",(18,18,0):\"3\",(15,15,0):\"4\",(5,5,0):\"5\", (7,7,0):\"6\", (25,20,0):\"7\"}\n",
    "e_init = {\"a4.00b-4.0c0.25d-15.e0.17n01\":1000,\"a4.00b-4.0c0.25d-15.e0.17n02\":1000}\n",
    "\n",
    "for t in range(0,20):\n",
    "    for r in rab_init:\n",
    "        plt.scatter(r[0],r[1], c= 'b')\n",
    "    for w in wolf_init:\n",
    "        plt.scatter(w[0],w[1], c= 'r')\n",
    "    wolf_init,rab_init,e_init = time_step_1(wolf_init,rab_init,e_init)\n",
    "    t = list(wolf_init.keys())[0][2]"
   ]
  },
  {
   "cell_type": "markdown",
   "metadata": {},
   "source": [
    "The code seems to be working correctly, but the wolves can only catch a few rabbits before the other rabbits have run away. This code was intended to be a genetic algorithim of sorts, that is, the wolves would adapt to become more efficient hunters.\n",
    "\n",
    "What's a requirement for adaption? Genetic variation! We're going to add i) more wolves, ii) even more rabbits (1:10 ratio), iii) and add some random variation to the wolves DNA strings. To do that, we'll utilize the wolf_gen function, and the rabbit_gen function. The potential function parameters used before will be the baseline for each wolf. They are reasonable in structure, and will optimize as less fit wolves die. The strings to input into wolf_gen will be are the parent strings for reproduction later on, for now, just note the empty string will produce the default s."
   ]
  },
  {
   "cell_type": "code",
   "execution_count": 15,
   "metadata": {},
   "outputs": [],
   "source": [
    "def Wolf_gen(x,y,t,wolf,e_list,s1,s2):\n",
    "    n = len(wolf)\n",
    "    point = (x,y,t)\n",
    "    while(point in wolf):\n",
    "        point = (x+1,y+1,t)\n",
    "    if (s1 == \"\" or s2 == \"\"):\n",
    "        s0 = \"a4.00b-4.0c0.25d-15.e0.17n\" + str(n)\n",
    "        s = \"\"\n",
    "        i_prev = -1\n",
    "        mod_list = {1,3,4,7,9,11,13,14,17,18,21,23,24} #These are the positions of the characters to modify in the above string\n",
    "        for i in mod_list:\n",
    "            rs = np.random.randint(0,9)\n",
    "            s += s0[i_prev+1:i] +str(rs)\n",
    "            if (i == 24):\n",
    "                s += s[i+1:len(s)]\n",
    "            i_prev = i\n",
    "        e_list[s] = 500\n",
    "    else:\n",
    "        coin = np.random.randint(0, 2)\n",
    "        if coin == 1:\n",
    "            s = s1[0:12] + s2[13:25]+str(n)\n",
    "        if coin == 0:\n",
    "            s = s2[0:12] + s1[13:25]+str(n)\n",
    "        e_list[s1] -= 100\n",
    "        e_list[s2] -= 100\n",
    "        e_list[s] = 200\n",
    "    wolf[point] = s\n",
    "    return wolf\n",
    "\n",
    "def Rabbit_gen(x,y,t,rabbit):\n",
    "    n = len(rabbit)\n",
    "    point = (x,y,t)\n",
    "    while(point in rabbit):\n",
    "        point = (x+1,y+1,t)\n",
    "    rabbit[point] = str(n)\n",
    "    return rabbit\n"
   ]
  },
  {
   "cell_type": "markdown",
   "metadata": {},
   "source": [
    "Now for a test of this code. Wolves will be placed on the axes, surrounding a center filled with rabbits."
   ]
  },
  {
   "cell_type": "code",
   "execution_count": 16,
   "metadata": {},
   "outputs": [
    {
     "name": "stdout",
     "output_type": "stream",
     "text": [
      "Wolf ate rabbit\n",
      "Wolf ate rabbit\n",
      "Wolf ate rabbit\n",
      "Wolf ate rabbit\n",
      "Wolf ate rabbit\n",
      "Wolf ate rabbit\n",
      "Wolf ate rabbit\n",
      "Wolf ate rabbit\n",
      "Wolf ate rabbit\n",
      "Wolf ate rabbit\n",
      "Wolf ate rabbit\n",
      "Wolf ate rabbit\n",
      "Wolf ate rabbit\n",
      "Wolf ate rabbit\n"
     ]
    },
    {
     "data": {
      "image/png": "[encoded data removed]",
      "text/plain": [
       "<matplotlib.figure.Figure at 0x29f91a7eef0>"
      ]
     },
     "metadata": {
      "needs_background": "light"
     },
     "output_type": "display_data"
    }
   ],
   "source": [
    "wolfs ={}\n",
    "e_s = {}\n",
    "rabbs = {}\n",
    "\n",
    "\n",
    "for i in range(0,20):\n",
    "    Wolf_gen(i,0,0,wolfs,e_s,\"\",\"\")\n",
    "    Wolf_gen(0,i,0,wolfs,e_s,\"\",\"\")\n",
    "    Rabbit_gen(i+1,i+1,0,rabbs)\n",
    "    \n",
    "t = list(wolf_init.keys())[0][2]   \n",
    "    \n",
    "for t in range(0,100):\n",
    "    for r in rabbs:\n",
    "        plt.scatter(r[0],r[1], c= 'b')\n",
    "    for w in wolfs:\n",
    "        plt.scatter(w[0],w[1], c= 'r')\n",
    "    wolfs,rabbs,e_s = time_step_1(wolfs,rabbs,e_s)\n",
    "    t = list(wolfs.keys())[0][2]"
   ]
  },
  {
   "cell_type": "markdown",
   "metadata": {},
   "source": [
    "## To do"
   ]
  },
  {
   "cell_type": "markdown",
   "metadata": {},
   "source": [
    "*Add more comments for clarity\n",
    "\n",
    "*Add reproduction function to produce more rabbits and wolves\n",
    "    *Costs time step and energy, so costly (maybe add more potentials?)\n",
    "\n",
    "*Animate\n",
    "\n",
    "*Long run for evolution of wolf hunting behavior"
   ]
  },
  {
   "cell_type": "code",
   "execution_count": null,
   "metadata": {},
   "outputs": [],
   "source": []
  }
 ],
 "metadata": {
  "anaconda-cloud": {},
  "kernelspec": {
   "display_name": "Python 3",
   "language": "python",
   "name": "python3"
  },
  "language_info": {
   "codemirror_mode": {
    "name": "ipython",
    "version": 3
   },
   "file_extension": ".py",
   "mimetype": "text/x-python",
   "name": "python",
   "nbconvert_exporter": "python",
   "pygments_lexer": "ipython3",
   "version": "3.6.6"
  }
 },
 "nbformat": 4,
 "nbformat_minor": 1
}
